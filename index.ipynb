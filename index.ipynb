{
 "cells": [
  {
   "cell_type": "markdown",
   "metadata": {},
   "source": [
    "# poola\n",
    "\n",
    "> Python package for pooled screen analysis"
   ]
  },
  {
   "cell_type": "markdown",
   "metadata": {},
   "source": [
    "## Install\n",
    "\n",
    "Install from github for the latest development release:"
   ]
  },
  {
   "cell_type": "markdown",
   "metadata": {},
   "source": [
    "`pip install git+git://github.com/gpp-rnd/poola.git#egg=poola`"
   ]
  },
  {
   "cell_type": "markdown",
   "metadata": {},
   "source": [
    "Or install the most recent distribution from PyPi:\n",
    "\n",
    "[![PyPI version](https://badge.fury.io/py/poola.svg)](https://badge.fury.io/py/poola)\n",
    "\n",
    "`pip install poola`"
   ]
  },
  {
   "cell_type": "markdown",
   "metadata": {},
   "source": [
    "## How to use"
   ]
  },
  {
   "cell_type": "markdown",
   "metadata": {},
   "source": [
    "Additional packages required for this tutorial can be install using `pip install -r requirements.txt`"
   ]
  },
  {
   "cell_type": "code",
   "execution_count": null,
   "metadata": {},
   "outputs": [],
   "source": [
    "from poola import core as pool\n",
    "import pandas as pd\n",
    "import seaborn as sns\n",
    "import gpplot\n",
    "import matplotlib.pyplot as plt"
   ]
  },
  {
   "cell_type": "markdown",
   "metadata": {},
   "source": [
    "To demonstrate the functionality of this module we'll use read counts from [Sanson et al. 2018](https://doi.org/10.1038/s41467-018-07901-8)."
   ]
  },
  {
   "cell_type": "code",
   "execution_count": null,
   "metadata": {},
   "outputs": [],
   "source": [
    "supp_reads = 'https://static-content.springer.com/esm/art%3A10.1038%2Fs41467-018-07901-8/MediaObjects/41467_2018_7901_MOESM4_ESM.xlsx'\n",
    "read_counts = pd.read_excel(supp_reads,\n",
    "                            sheet_name = 'A375_orig_tracr raw reads', \n",
    "                            header = None,\n",
    "                            skiprows = 3, \n",
    "                            names = ['sgRNA Sequence', 'pDNA', 'A375_RepA', 'A375_RepB'], \n",
    "                            engine='openpyxl')\n",
    "guide_annotations = pd.read_excel(supp_reads,\n",
    "                                  sheet_name='sgRNA annotations', \n",
    "                                  engine='openpyxl')"
   ]
  },
  {
   "cell_type": "markdown",
   "metadata": {},
   "source": [
    "The input data has three columns with read counts and one column with sgRNA annotations"
   ]
  },
  {
   "cell_type": "code",
   "execution_count": null,
   "metadata": {},
   "outputs": [
    {
     "data": {
      "text/html": "<div>\n<style scoped>\n    .dataframe tbody tr th:only-of-type {\n        vertical-align: middle;\n    }\n\n    .dataframe tbody tr th {\n        vertical-align: top;\n    }\n\n    .dataframe thead th {\n        text-align: right;\n    }\n</style>\n<table border=\"1\" class=\"dataframe\">\n  <thead>\n    <tr style=\"text-align: right;\">\n      <th></th>\n      <th>sgRNA Sequence</th>\n      <th>pDNA</th>\n      <th>A375_RepA</th>\n      <th>A375_RepB</th>\n    </tr>\n  </thead>\n  <tbody>\n    <tr>\n      <th>0</th>\n      <td>AAAAAAAATCCGGACAATGG</td>\n      <td>522</td>\n      <td>729</td>\n      <td>774</td>\n    </tr>\n    <tr>\n      <th>1</th>\n      <td>AAAAAAAGGATGGTGATCAA</td>\n      <td>511</td>\n      <td>1484</td>\n      <td>1393</td>\n    </tr>\n    <tr>\n      <th>2</th>\n      <td>AAAAAAATGACATTACTGCA</td>\n      <td>467</td>\n      <td>375</td>\n      <td>603</td>\n    </tr>\n    <tr>\n      <th>3</th>\n      <td>AAAAAAATGTCAGTCGAGTG</td>\n      <td>200</td>\n      <td>737</td>\n      <td>506</td>\n    </tr>\n    <tr>\n      <th>4</th>\n      <td>AAAAAACACAAGCAAGACCG</td>\n      <td>286</td>\n      <td>672</td>\n      <td>352</td>\n    </tr>\n  </tbody>\n</table>\n</div>",
      "text/plain": "         sgRNA Sequence  pDNA  A375_RepA  A375_RepB\n0  AAAAAAAATCCGGACAATGG   522        729        774\n1  AAAAAAAGGATGGTGATCAA   511       1484       1393\n2  AAAAAAATGACATTACTGCA   467        375        603\n3  AAAAAAATGTCAGTCGAGTG   200        737        506\n4  AAAAAACACAAGCAAGACCG   286        672        352"
     },
     "execution_count": null,
     "metadata": {},
     "output_type": "execute_result"
    }
   ],
   "source": [
    "read_counts.head()"
   ]
  },
  {
   "cell_type": "code",
   "execution_count": null,
   "metadata": {},
   "outputs": [
    {
     "name": "stdout",
     "output_type": "stream",
     "text": [
      "Filtered 576 columns due to low pDNA abundance\n"
     ]
    }
   ],
   "source": [
    "lognorms = pool.lognorm_columns(reads_df=read_counts, columns=['pDNA', 'A375_RepA', 'A375_RepB'])\n",
    "filtered_lognorms = pool.filter_pdna(lognorm_df=lognorms, pdna_cols=['pDNA'], z_low=-3)\n",
    "print('Filtered ' + str(lognorms.shape[0] - filtered_lognorms.shape[0]) + ' columns due to low pDNA abundance')"
   ]
  },
  {
   "cell_type": "markdown",
   "metadata": {},
   "source": [
    "Note that the column names for the lognorms remain the same"
   ]
  },
  {
   "cell_type": "code",
   "execution_count": null,
   "metadata": {},
   "outputs": [
    {
     "data": {
      "text/html": "<div>\n<style scoped>\n    .dataframe tbody tr th:only-of-type {\n        vertical-align: middle;\n    }\n\n    .dataframe tbody tr th {\n        vertical-align: top;\n    }\n\n    .dataframe thead th {\n        text-align: right;\n    }\n</style>\n<table border=\"1\" class=\"dataframe\">\n  <thead>\n    <tr style=\"text-align: right;\">\n      <th></th>\n      <th>sgRNA Sequence</th>\n      <th>pDNA</th>\n      <th>A375_RepA</th>\n      <th>A375_RepB</th>\n    </tr>\n  </thead>\n  <tbody>\n    <tr>\n      <th>0</th>\n      <td>AAAAAAAATCCGGACAATGG</td>\n      <td>4.192756</td>\n      <td>3.373924</td>\n      <td>3.521755</td>\n    </tr>\n    <tr>\n      <th>1</th>\n      <td>AAAAAAAGGATGGTGATCAA</td>\n      <td>4.163726</td>\n      <td>4.326828</td>\n      <td>4.312620</td>\n    </tr>\n    <tr>\n      <th>2</th>\n      <td>AAAAAAATGACATTACTGCA</td>\n      <td>4.041390</td>\n      <td>2.540624</td>\n      <td>3.196767</td>\n    </tr>\n    <tr>\n      <th>3</th>\n      <td>AAAAAAATGTCAGTCGAGTG</td>\n      <td>2.930437</td>\n      <td>3.388159</td>\n      <td>2.973599</td>\n    </tr>\n    <tr>\n      <th>4</th>\n      <td>AAAAAACACAAGCAAGACCG</td>\n      <td>3.388394</td>\n      <td>3.268222</td>\n      <td>2.528233</td>\n    </tr>\n  </tbody>\n</table>\n</div>",
      "text/plain": "         sgRNA Sequence      pDNA  A375_RepA  A375_RepB\n0  AAAAAAAATCCGGACAATGG  4.192756   3.373924   3.521755\n1  AAAAAAAGGATGGTGATCAA  4.163726   4.326828   4.312620\n2  AAAAAAATGACATTACTGCA  4.041390   2.540624   3.196767\n3  AAAAAAATGTCAGTCGAGTG  2.930437   3.388159   2.973599\n4  AAAAAACACAAGCAAGACCG  3.388394   3.268222   2.528233"
     },
     "execution_count": null,
     "metadata": {},
     "output_type": "execute_result"
    }
   ],
   "source": [
    "lognorms.head()"
   ]
  },
  {
   "cell_type": "code",
   "execution_count": null,
   "metadata": {},
   "outputs": [],
   "source": [
    "lfc_df = pool.calculate_lfcs(lognorm_df=filtered_lognorms, ref_col='pDNA', target_cols=['A375_RepA', 'A375_RepB'])"
   ]
  },
  {
   "cell_type": "markdown",
   "metadata": {},
   "source": [
    "We drop the pDNA column after calculating log-fold changes"
   ]
  },
  {
   "cell_type": "code",
   "execution_count": null,
   "metadata": {},
   "outputs": [
    {
     "data": {
      "text/html": "<div>\n<style scoped>\n    .dataframe tbody tr th:only-of-type {\n        vertical-align: middle;\n    }\n\n    .dataframe tbody tr th {\n        vertical-align: top;\n    }\n\n    .dataframe thead th {\n        text-align: right;\n    }\n</style>\n<table border=\"1\" class=\"dataframe\">\n  <thead>\n    <tr style=\"text-align: right;\">\n      <th></th>\n      <th>sgRNA Sequence</th>\n      <th>A375_RepA</th>\n      <th>A375_RepB</th>\n    </tr>\n  </thead>\n  <tbody>\n    <tr>\n      <th>0</th>\n      <td>AAAAAAAATCCGGACAATGG</td>\n      <td>-0.818831</td>\n      <td>-0.671000</td>\n    </tr>\n    <tr>\n      <th>1</th>\n      <td>AAAAAAAGGATGGTGATCAA</td>\n      <td>0.163102</td>\n      <td>0.148894</td>\n    </tr>\n    <tr>\n      <th>2</th>\n      <td>AAAAAAATGACATTACTGCA</td>\n      <td>-1.500766</td>\n      <td>-0.844622</td>\n    </tr>\n    <tr>\n      <th>3</th>\n      <td>AAAAAAATGTCAGTCGAGTG</td>\n      <td>0.457721</td>\n      <td>0.043161</td>\n    </tr>\n    <tr>\n      <th>4</th>\n      <td>AAAAAACACAAGCAAGACCG</td>\n      <td>-0.120172</td>\n      <td>-0.860161</td>\n    </tr>\n  </tbody>\n</table>\n</div>",
      "text/plain": "         sgRNA Sequence  A375_RepA  A375_RepB\n0  AAAAAAAATCCGGACAATGG  -0.818831  -0.671000\n1  AAAAAAAGGATGGTGATCAA   0.163102   0.148894\n2  AAAAAAATGACATTACTGCA  -1.500766  -0.844622\n3  AAAAAAATGTCAGTCGAGTG   0.457721   0.043161\n4  AAAAAACACAAGCAAGACCG  -0.120172  -0.860161"
     },
     "execution_count": null,
     "metadata": {},
     "output_type": "execute_result"
    }
   ],
   "source": [
    "lfc_df.head()"
   ]
  },
  {
   "cell_type": "markdown",
   "metadata": {},
   "source": [
    "Since we only have two conditions it's easy to visualize replicates as a point densityplot using [gpplot](https://github.com/gpp-rnd/gpplot)"
   ]
  },
  {
   "cell_type": "code",
   "execution_count": null,
   "metadata": {},
   "outputs": [
    {
     "data": {
      "image/png": "[encoded data removed]",
      "text/plain": "<Figure size 288x288 with 1 Axes>"
     },
     "metadata": {
      "needs_background": "light"
     },
     "output_type": "display_data"
    }
   ],
   "source": [
    "plt.subplots(figsize=(4,4))\n",
    "gpplot.point_densityplot(data=lfc_df, x='A375_RepA', y='A375_RepB')\n",
    "gpplot.add_correlation(data=lfc_df, x='A375_RepA', y='A375_RepB')\n",
    "sns.despine()"
   ]
  },
  {
   "cell_type": "markdown",
   "metadata": {},
   "source": [
    "Since we see a strong correlation, we'll average the log-fold change of each sgRNA across replicates"
   ]
  },
  {
   "cell_type": "code",
   "execution_count": null,
   "metadata": {},
   "outputs": [],
   "source": [
    "avg_replicate_lfc_df = pool.average_replicate_lfcs(lfcs=lfc_df, guide_col='sgRNA Sequence', condition_indices=[0],\n",
    "                                                   sep='_')"
   ]
  },
  {
   "cell_type": "markdown",
   "metadata": {},
   "source": [
    "After averaging log-fold changes our dataframe is melted, so the condition column specifies the experimental condition (A375 here) and the n_obs specifies the number of replicates"
   ]
  },
  {
   "cell_type": "code",
   "execution_count": null,
   "metadata": {},
   "outputs": [
    {
     "data": {
      "text/html": "<div>\n<style scoped>\n    .dataframe tbody tr th:only-of-type {\n        vertical-align: middle;\n    }\n\n    .dataframe tbody tr th {\n        vertical-align: top;\n    }\n\n    .dataframe thead th {\n        text-align: right;\n    }\n</style>\n<table border=\"1\" class=\"dataframe\">\n  <thead>\n    <tr style=\"text-align: right;\">\n      <th></th>\n      <th>sgRNA Sequence</th>\n      <th>condition</th>\n      <th>avg_lfc</th>\n      <th>n_obs</th>\n    </tr>\n  </thead>\n  <tbody>\n    <tr>\n      <th>0</th>\n      <td>AAAAAAAATCCGGACAATGG</td>\n      <td>A375</td>\n      <td>-0.744916</td>\n      <td>2</td>\n    </tr>\n    <tr>\n      <th>1</th>\n      <td>AAAAAAAGGATGGTGATCAA</td>\n      <td>A375</td>\n      <td>0.155998</td>\n      <td>2</td>\n    </tr>\n    <tr>\n      <th>2</th>\n      <td>AAAAAAATGACATTACTGCA</td>\n      <td>A375</td>\n      <td>-1.172694</td>\n      <td>2</td>\n    </tr>\n    <tr>\n      <th>3</th>\n      <td>AAAAAAATGTCAGTCGAGTG</td>\n      <td>A375</td>\n      <td>0.250441</td>\n      <td>2</td>\n    </tr>\n    <tr>\n      <th>4</th>\n      <td>AAAAAACACAAGCAAGACCG</td>\n      <td>A375</td>\n      <td>-0.490166</td>\n      <td>2</td>\n    </tr>\n  </tbody>\n</table>\n</div>",
      "text/plain": "         sgRNA Sequence condition   avg_lfc  n_obs\n0  AAAAAAAATCCGGACAATGG      A375 -0.744916      2\n1  AAAAAAAGGATGGTGATCAA      A375  0.155998      2\n2  AAAAAAATGACATTACTGCA      A375 -1.172694      2\n3  AAAAAAATGTCAGTCGAGTG      A375  0.250441      2\n4  AAAAAACACAAGCAAGACCG      A375 -0.490166      2"
     },
     "execution_count": null,
     "metadata": {},
     "output_type": "execute_result"
    }
   ],
   "source": [
    "avg_replicate_lfc_df.head()"
   ]
  },
  {
   "cell_type": "markdown",
   "metadata": {},
   "source": [
    "It's sometimes helpful to group controls into pseudo-genes so they're easier to compare with target genes. Our annotation file maps from sgRNA sequences to gene symbols"
   ]
  },
  {
   "cell_type": "code",
   "execution_count": null,
   "metadata": {},
   "outputs": [
    {
     "data": {
      "text/html": "<div>\n<style scoped>\n    .dataframe tbody tr th:only-of-type {\n        vertical-align: middle;\n    }\n\n    .dataframe tbody tr th {\n        vertical-align: top;\n    }\n\n    .dataframe thead th {\n        text-align: right;\n    }\n</style>\n<table border=\"1\" class=\"dataframe\">\n  <thead>\n    <tr style=\"text-align: right;\">\n      <th></th>\n      <th>sgRNA Sequence</th>\n      <th>Annotated Gene Symbol</th>\n      <th>Annotated Gene ID</th>\n    </tr>\n  </thead>\n  <tbody>\n    <tr>\n      <th>0</th>\n      <td>AAAAAAAATCCGGACAATGG</td>\n      <td>SLC25A24</td>\n      <td>29957</td>\n    </tr>\n    <tr>\n      <th>1</th>\n      <td>AAAAAAAGGATGGTGATCAA</td>\n      <td>FASTKD3</td>\n      <td>79072</td>\n    </tr>\n    <tr>\n      <th>2</th>\n      <td>AAAAAAATGACATTACTGCA</td>\n      <td>BCAS2</td>\n      <td>10286</td>\n    </tr>\n    <tr>\n      <th>3</th>\n      <td>AAAAAAATGTCAGTCGAGTG</td>\n      <td>GPR18</td>\n      <td>2841</td>\n    </tr>\n    <tr>\n      <th>4</th>\n      <td>AAAAAACACAAGCAAGACCG</td>\n      <td>ZNF470</td>\n      <td>388566</td>\n    </tr>\n  </tbody>\n</table>\n</div>",
      "text/plain": "         sgRNA Sequence Annotated Gene Symbol Annotated Gene ID\n0  AAAAAAAATCCGGACAATGG              SLC25A24             29957\n1  AAAAAAAGGATGGTGATCAA               FASTKD3             79072\n2  AAAAAAATGACATTACTGCA                 BCAS2             10286\n3  AAAAAAATGTCAGTCGAGTG                 GPR18              2841\n4  AAAAAACACAAGCAAGACCG                ZNF470            388566"
     },
     "execution_count": null,
     "metadata": {},
     "output_type": "execute_result"
    }
   ],
   "source": [
    "remapped_annotations = pool.group_pseudogenes(annotations=guide_annotations, pseudogene_size=4, \n",
    "                                              gene_col='Annotated Gene Symbol', \n",
    "                                              control_regex=['NO_CURRENT'])\n",
    "remapped_annotations.head()"
   ]
  },
  {
   "cell_type": "markdown",
   "metadata": {},
   "source": [
    "We provide two methods for scaling log-fold change values to controls:\n",
    "\n",
    "1. Z-score from a set of negative controls\n",
    "2. Scale scores between a set of negative and positive controls\n",
    "\n",
    "For both scoring methods, you can input either a regex or a list of genes to define control sets\n",
    "\n",
    "For our set of negative controls, we'll use [nonessential](https://doi.org/10.15252/msb.20145216) genes"
   ]
  },
  {
   "cell_type": "code",
   "execution_count": null,
   "metadata": {},
   "outputs": [
    {
     "data": {
      "text/html": "<div>\n<style scoped>\n    .dataframe tbody tr th:only-of-type {\n        vertical-align: middle;\n    }\n\n    .dataframe tbody tr th {\n        vertical-align: top;\n    }\n\n    .dataframe thead th {\n        text-align: right;\n    }\n</style>\n<table border=\"1\" class=\"dataframe\">\n  <thead>\n    <tr style=\"text-align: right;\">\n      <th></th>\n      <th>sgRNA Sequence</th>\n      <th>condition</th>\n      <th>avg_lfc</th>\n      <th>n_obs</th>\n      <th>Annotated Gene Symbol</th>\n      <th>Annotated Gene ID</th>\n      <th>z_scored_avg_lfc</th>\n    </tr>\n  </thead>\n  <tbody>\n    <tr>\n      <th>0</th>\n      <td>AAAAAAAATCCGGACAATGG</td>\n      <td>A375</td>\n      <td>-0.744916</td>\n      <td>2</td>\n      <td>SLC25A24</td>\n      <td>29957</td>\n      <td>-1.651921</td>\n    </tr>\n    <tr>\n      <th>1</th>\n      <td>AAAAAAAGGATGGTGATCAA</td>\n      <td>A375</td>\n      <td>0.155998</td>\n      <td>2</td>\n      <td>FASTKD3</td>\n      <td>79072</td>\n      <td>0.166585</td>\n    </tr>\n    <tr>\n      <th>2</th>\n      <td>AAAAAAATGACATTACTGCA</td>\n      <td>A375</td>\n      <td>-1.172694</td>\n      <td>2</td>\n      <td>BCAS2</td>\n      <td>10286</td>\n      <td>-2.515396</td>\n    </tr>\n    <tr>\n      <th>3</th>\n      <td>AAAAAAATGTCAGTCGAGTG</td>\n      <td>A375</td>\n      <td>0.250441</td>\n      <td>2</td>\n      <td>GPR18</td>\n      <td>2841</td>\n      <td>0.357219</td>\n    </tr>\n    <tr>\n      <th>4</th>\n      <td>AAAAAACACAAGCAAGACCG</td>\n      <td>A375</td>\n      <td>-0.490166</td>\n      <td>2</td>\n      <td>ZNF470</td>\n      <td>388566</td>\n      <td>-1.137705</td>\n    </tr>\n  </tbody>\n</table>\n</div>",
      "text/plain": "         sgRNA Sequence condition   avg_lfc  n_obs Annotated Gene Symbol  \\\n0  AAAAAAAATCCGGACAATGG      A375 -0.744916      2              SLC25A24   \n1  AAAAAAAGGATGGTGATCAA      A375  0.155998      2               FASTKD3   \n2  AAAAAAATGACATTACTGCA      A375 -1.172694      2                 BCAS2   \n3  AAAAAAATGTCAGTCGAGTG      A375  0.250441      2                 GPR18   \n4  AAAAAACACAAGCAAGACCG      A375 -0.490166      2                ZNF470   \n\n  Annotated Gene ID  z_scored_avg_lfc  \n0             29957         -1.651921  \n1             79072          0.166585  \n2             10286         -2.515396  \n3              2841          0.357219  \n4            388566         -1.137705  "
     },
     "execution_count": null,
     "metadata": {},
     "output_type": "execute_result"
    }
   ],
   "source": [
    "nonessential_genes = (pd.read_table('https://raw.githubusercontent.com/gpp-rnd/genesets/master/human/non-essential-genes-Hart2014.txt',\n",
    "                                    names=['gene'])\n",
    "                      .gene)\n",
    "annot_guide_lfcs = pool.annotate_guide_lfcs(avg_replicate_lfc_df, remapped_annotations, 'Annotated Gene Symbol',\n",
    "                                            merge_on='sgRNA Sequence', z_score_neg_ctls=True,\n",
    "                                            z_score_neg_ctl_genes=nonessential_genes)\n",
    "annot_guide_lfcs.head()"
   ]
  },
  {
   "cell_type": "markdown",
   "metadata": {},
   "source": [
    "To aggregate scores at the gene level, we specify columns to average, and columns to z-score.\n",
    "From our z-scores we calculate a p-value and FDR using the [Benjamini-Hochberg procedure](http://www.biostathandbook.com/multiplecomparisons.html)\n"
   ]
  },
  {
   "cell_type": "code",
   "execution_count": null,
   "metadata": {},
   "outputs": [
    {
     "data": {
      "text/html": "<div>\n<style scoped>\n    .dataframe tbody tr th:only-of-type {\n        vertical-align: middle;\n    }\n\n    .dataframe tbody tr th {\n        vertical-align: top;\n    }\n\n    .dataframe thead th {\n        text-align: right;\n    }\n</style>\n<table border=\"1\" class=\"dataframe\">\n  <thead>\n    <tr style=\"text-align: right;\">\n      <th></th>\n      <th>condition</th>\n      <th>Annotated Gene Symbol</th>\n      <th>n_guides</th>\n      <th>avg_lfc</th>\n      <th>z_scored_avg_lfc</th>\n      <th>z_scored_avg_lfc_p_value</th>\n      <th>z_scored_avg_lfc_fdr</th>\n    </tr>\n  </thead>\n  <tbody>\n    <tr>\n      <th>0</th>\n      <td>A375</td>\n      <td>A1BG</td>\n      <td>3</td>\n      <td>-0.084621</td>\n      <td>-0.552711</td>\n      <td>0.580461</td>\n      <td>0.872833</td>\n    </tr>\n    <tr>\n      <th>1</th>\n      <td>A375</td>\n      <td>A1CF</td>\n      <td>4</td>\n      <td>0.500314</td>\n      <td>1.723181</td>\n      <td>0.084856</td>\n      <td>0.338055</td>\n    </tr>\n    <tr>\n      <th>2</th>\n      <td>A375</td>\n      <td>A2M</td>\n      <td>4</td>\n      <td>0.288629</td>\n      <td>0.868604</td>\n      <td>0.385064</td>\n      <td>0.759829</td>\n    </tr>\n    <tr>\n      <th>3</th>\n      <td>A375</td>\n      <td>A2ML1</td>\n      <td>4</td>\n      <td>-0.481786</td>\n      <td>-2.241580</td>\n      <td>0.024989</td>\n      <td>0.132164</td>\n    </tr>\n    <tr>\n      <th>4</th>\n      <td>A375</td>\n      <td>A3GALT2</td>\n      <td>4</td>\n      <td>0.059362</td>\n      <td>-0.056952</td>\n      <td>0.954583</td>\n      <td>0.990693</td>\n    </tr>\n  </tbody>\n</table>\n</div>",
      "text/plain": "  condition Annotated Gene Symbol  n_guides   avg_lfc  z_scored_avg_lfc  \\\n0      A375                  A1BG         3 -0.084621         -0.552711   \n1      A375                  A1CF         4  0.500314          1.723181   \n2      A375                   A2M         4  0.288629          0.868604   \n3      A375                 A2ML1         4 -0.481786         -2.241580   \n4      A375               A3GALT2         4  0.059362         -0.056952   \n\n   z_scored_avg_lfc_p_value  z_scored_avg_lfc_fdr  \n0                  0.580461              0.872833  \n1                  0.084856              0.338055  \n2                  0.385064              0.759829  \n3                  0.024989              0.132164  \n4                  0.954583              0.990693  "
     },
     "execution_count": null,
     "metadata": {},
     "output_type": "execute_result"
    }
   ],
   "source": [
    "gene_lfcs = pool.aggregate_gene_lfcs(annot_guide_lfcs, 'Annotated Gene Symbol',\n",
    "                                     average_cols=['avg_lfc'],\n",
    "                                     zscore_cols=['z_scored_avg_lfc'])\n",
    "gene_lfcs.head()"
   ]
  },
  {
   "cell_type": "markdown",
   "metadata": {},
   "source": [
    "Finally, to evaluate the quality this screen, we'll calculate the ROC-AUC between [essential](https://doi.org/10.1016/j.cell.2015.11.015) and [nonessential](https://doi.org/10.15252/msb.20145216) genes for each condition"
   ]
  },
  {
   "cell_type": "code",
   "execution_count": null,
   "metadata": {},
   "outputs": [
    {
     "name": "stdout",
     "output_type": "stream",
     "text": [
      "ROC-AUC: 0.976\n"
     ]
    }
   ],
   "source": [
    "essential_genes = (pd.read_table('https://raw.githubusercontent.com/gpp-rnd/genesets/master/human/essential-genes-Hart2015.txt', \n",
    "                                 names=['gene'])\n",
    "                   .gene)\n",
    "roc_aucs, roc_df = pool.get_roc_aucs(lfcs=gene_lfcs, tp_genes=essential_genes, fp_genes=nonessential_genes, gene_col='Annotated Gene Symbol',\n",
    "                                     condition_col='condition', score_col='avg_lfc')\n",
    "print('ROC-AUC: ' + str(round(roc_aucs['ROC-AUC'].values[0], 3)))"
   ]
  },
  {
   "cell_type": "markdown",
   "metadata": {},
   "source": [
    "Note that we can also use this function to calculate roc-aucs at the guide level"
   ]
  },
  {
   "cell_type": "code",
   "execution_count": null,
   "metadata": {},
   "outputs": [
    {
     "data": {
      "text/html": "<div>\n<style scoped>\n    .dataframe tbody tr th:only-of-type {\n        vertical-align: middle;\n    }\n\n    .dataframe tbody tr th {\n        vertical-align: top;\n    }\n\n    .dataframe thead th {\n        text-align: right;\n    }\n</style>\n<table border=\"1\" class=\"dataframe\">\n  <thead>\n    <tr style=\"text-align: right;\">\n      <th></th>\n      <th>condition</th>\n      <th>ROC-AUC</th>\n    </tr>\n  </thead>\n  <tbody>\n    <tr>\n      <th>0</th>\n      <td>A375_RepA</td>\n      <td>0.918505</td>\n    </tr>\n    <tr>\n      <th>1</th>\n      <td>A375_RepB</td>\n      <td>0.917600</td>\n    </tr>\n  </tbody>\n</table>\n</div>",
      "text/plain": "   condition   ROC-AUC\n0  A375_RepA  0.918505\n1  A375_RepB  0.917600"
     },
     "execution_count": null,
     "metadata": {},
     "output_type": "execute_result"
    }
   ],
   "source": [
    "annotated_guide_lfcs = lfc_df.merge(guide_annotations, how='inner', on='sgRNA Sequence')\n",
    "roc_aucs, roc_df = pool.get_roc_aucs(lfcs=annotated_guide_lfcs, tp_genes=essential_genes, fp_genes=nonessential_genes, gene_col='Annotated Gene Symbol',\n",
    "                                     condition_list=['A375_RepA', 'A375_RepB'])\n",
    "roc_aucs"
   ]
  },
  {
   "cell_type": "markdown",
   "metadata": {},
   "source": [
    "And plot ROC curves from the `roc_df`\n"
   ]
  },
  {
   "cell_type": "code",
   "execution_count": null,
   "metadata": {},
   "outputs": [
    {
     "data": {
      "image/png": "[encoded data removed]",
      "text/plain": "<Figure size 288x288 with 1 Axes>"
     },
     "metadata": {
      "needs_background": "light"
     },
     "output_type": "display_data"
    }
   ],
   "source": [
    "plt.subplots(figsize=(4,4))\n",
    "sns.lineplot(data=roc_df, x='fpr', y='tpr', hue='condition', ci=None)\n",
    "gpplot.add_xy_line()\n",
    "sns.despine()"
   ]
  }
 ],
 "metadata": {
  "kernelspec": {
   "display_name": "Python 3",
   "language": "python",
   "name": "python3"
  }
 },
 "nbformat": 4,
 "nbformat_minor": 4
}
