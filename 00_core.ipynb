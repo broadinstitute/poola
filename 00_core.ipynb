{
 "cells": [
  {
   "cell_type": "code",
   "execution_count": null,
   "metadata": {},
   "outputs": [],
   "source": [
    "# default_exp core"
   ]
  },
  {
   "cell_type": "markdown",
   "metadata": {},
   "source": [
    "# core \n",
    "\n",
    "> Core functions for analyzing CRISPR screens"
   ]
  },
  {
   "cell_type": "markdown",
   "metadata": {},
   "source": [
    "## Log-normalizing Data"
   ]
  },
  {
   "cell_type": "code",
   "execution_count": null,
   "metadata": {},
   "outputs": [],
   "source": [
    "# export \n",
    "import numpy as np\n",
    "\n",
    "def lognorm(reads):\n",
    "    \"\"\"\n",
    "    Standardize read counts by calculating reads per million, \n",
    "    adding a pseudo-count of one, and taking the log2\n",
    "    \n",
    "    reads: numpy or pandas array |\n",
    "    returns: numpy or pandas array\n",
    "    \"\"\"\n",
    "    reads_per_million = (reads/reads.sum())*(10**6)\n",
    "    lognormed_reads = np.log2(reads_per_million + 1)\n",
    "    return lognormed_reads\n",
    "\n",
    "\n",
    "def lognorm_columns(reads_df, columns):\n",
    "    \"\"\"\n",
    "    Calculate lognorms for specified columns\n",
    "    \n",
    "    reads_df: dataframe |\n",
    "    columns: list |\n",
    "    returns: lognorm dataframe\n",
    "    \"\"\"\n",
    "    lognorm_df = reads_df.copy()\n",
    "    lognorm_df[columns] = lognorm_df[columns].apply(lognorm)\n",
    "    return lognorm_df"
   ]
  },
  {
   "cell_type": "markdown",
   "metadata": {},
   "source": [
    "To demonstrate the functionality of this module we'll use read counts from [Sanson et al. 2018](https://doi.org/10.1038/s41467-018-07901-8)."
   ]
  },
  {
   "cell_type": "code",
   "execution_count": null,
   "metadata": {},
   "outputs": [
    {
     "data": {
      "text/html": [
       "<div>\n",
       "<style scoped>\n",
       "    .dataframe tbody tr th:only-of-type {\n",
       "        vertical-align: middle;\n",
       "    }\n",
       "\n",
       "    .dataframe tbody tr th {\n",
       "        vertical-align: top;\n",
       "    }\n",
       "\n",
       "    .dataframe thead th {\n",
       "        text-align: right;\n",
       "    }\n",
       "</style>\n",
       "<table border=\"1\" class=\"dataframe\">\n",
       "  <thead>\n",
       "    <tr style=\"text-align: right;\">\n",
       "      <th></th>\n",
       "      <th>sgRNA Sequence</th>\n",
       "      <th>pDNA</th>\n",
       "      <th>A375_RepA</th>\n",
       "      <th>A375_RepB</th>\n",
       "    </tr>\n",
       "  </thead>\n",
       "  <tbody>\n",
       "    <tr>\n",
       "      <th>0</th>\n",
       "      <td>AAAAAAAATCCGGACAATGG</td>\n",
       "      <td>522</td>\n",
       "      <td>729</td>\n",
       "      <td>774</td>\n",
       "    </tr>\n",
       "    <tr>\n",
       "      <th>1</th>\n",
       "      <td>AAAAAAAGGATGGTGATCAA</td>\n",
       "      <td>511</td>\n",
       "      <td>1484</td>\n",
       "      <td>1393</td>\n",
       "    </tr>\n",
       "    <tr>\n",
       "      <th>2</th>\n",
       "      <td>AAAAAAATGACATTACTGCA</td>\n",
       "      <td>467</td>\n",
       "      <td>375</td>\n",
       "      <td>603</td>\n",
       "    </tr>\n",
       "    <tr>\n",
       "      <th>3</th>\n",
       "      <td>AAAAAAATGTCAGTCGAGTG</td>\n",
       "      <td>200</td>\n",
       "      <td>737</td>\n",
       "      <td>506</td>\n",
       "    </tr>\n",
       "    <tr>\n",
       "      <th>4</th>\n",
       "      <td>AAAAAACACAAGCAAGACCG</td>\n",
       "      <td>286</td>\n",
       "      <td>672</td>\n",
       "      <td>352</td>\n",
       "    </tr>\n",
       "    <tr>\n",
       "      <th>...</th>\n",
       "      <td>...</td>\n",
       "      <td>...</td>\n",
       "      <td>...</td>\n",
       "      <td>...</td>\n",
       "    </tr>\n",
       "    <tr>\n",
       "      <th>77436</th>\n",
       "      <td>TTTGTTTGGATTGCTTCAAG</td>\n",
       "      <td>514</td>\n",
       "      <td>2878</td>\n",
       "      <td>303</td>\n",
       "    </tr>\n",
       "    <tr>\n",
       "      <th>77437</th>\n",
       "      <td>TTTTACCTTGTTCACATGGA</td>\n",
       "      <td>828</td>\n",
       "      <td>3896</td>\n",
       "      <td>3367</td>\n",
       "    </tr>\n",
       "    <tr>\n",
       "      <th>77438</th>\n",
       "      <td>TTTTGACTCTAATCACCGGT</td>\n",
       "      <td>588</td>\n",
       "      <td>2725</td>\n",
       "      <td>2498</td>\n",
       "    </tr>\n",
       "    <tr>\n",
       "      <th>77439</th>\n",
       "      <td>TTTTTAATACAAGGTAATCT</td>\n",
       "      <td>503</td>\n",
       "      <td>2209</td>\n",
       "      <td>1785</td>\n",
       "    </tr>\n",
       "    <tr>\n",
       "      <th>77440</th>\n",
       "      <td>TTTTTCTCACCCGATGAATC</td>\n",
       "      <td>661</td>\n",
       "      <td>3198</td>\n",
       "      <td>3189</td>\n",
       "    </tr>\n",
       "  </tbody>\n",
       "</table>\n",
       "<p>77441 rows × 4 columns</p>\n",
       "</div>"
      ],
      "text/plain": [
       "             sgRNA Sequence  pDNA  A375_RepA  A375_RepB\n",
       "0      AAAAAAAATCCGGACAATGG   522        729        774\n",
       "1      AAAAAAAGGATGGTGATCAA   511       1484       1393\n",
       "2      AAAAAAATGACATTACTGCA   467        375        603\n",
       "3      AAAAAAATGTCAGTCGAGTG   200        737        506\n",
       "4      AAAAAACACAAGCAAGACCG   286        672        352\n",
       "...                     ...   ...        ...        ...\n",
       "77436  TTTGTTTGGATTGCTTCAAG   514       2878        303\n",
       "77437  TTTTACCTTGTTCACATGGA   828       3896       3367\n",
       "77438  TTTTGACTCTAATCACCGGT   588       2725       2498\n",
       "77439  TTTTTAATACAAGGTAATCT   503       2209       1785\n",
       "77440  TTTTTCTCACCCGATGAATC   661       3198       3189\n",
       "\n",
       "[77441 rows x 4 columns]"
      ]
     },
     "execution_count": null,
     "metadata": {},
     "output_type": "execute_result"
    }
   ],
   "source": [
    "import pandas as pd\n",
    "import seaborn as sns\n",
    "\n",
    "supp_reads = 'https://static-content.springer.com/esm/art%3A10.1038%2Fs41467-018-07901-8/MediaObjects/41467_2018_7901_MOESM4_ESM.xlsx'\n",
    "read_counts = pd.read_excel(supp_reads,\n",
    "                            sheet_name = 'A375_orig_tracr raw reads', \n",
    "                            header = None,\n",
    "                            skiprows = 3, \n",
    "                            names = ['sgRNA Sequence', 'pDNA', 'A375_RepA', 'A375_RepB'])\n",
    "\n",
    "read_counts"
   ]
  },
  {
   "cell_type": "markdown",
   "metadata": {},
   "source": [
    "Note that the read counts have a long right tail"
   ]
  },
  {
   "cell_type": "code",
   "execution_count": null,
   "metadata": {},
   "outputs": [
    {
     "data": {
      "text/plain": [
       "<AxesSubplot:xlabel='pDNA', ylabel='Density'>"
      ]
     },
     "execution_count": null,
     "metadata": {},
     "output_type": "execute_result"
    },
    {
     "data": {
      "image/png": "[encoded data removed]",
      "text/plain": [
       "<Figure size 432x288 with 1 Axes>"
      ]
     },
     "metadata": {
      "needs_background": "light"
     },
     "output_type": "display_data"
    }
   ],
   "source": [
    "sns.kdeplot(read_counts['pDNA'])"
   ]
  },
  {
   "cell_type": "markdown",
   "metadata": {},
   "source": [
    "To mitigate this tail and account for sequencing biases we log-normalize read counts by taking $$\\log_2 \\left ( \\frac{\\text{reads}}{\\text{total reads in condition}} * 10^6 + 1 \\night )$$"
   ]
  },
  {
   "cell_type": "code",
   "execution_count": null,
   "metadata": {},
   "outputs": [
    {
     "data": {
      "text/plain": [
       "<AxesSubplot:xlabel='pDNA', ylabel='Density'>"
      ]
     },
     "execution_count": null,
     "metadata": {},
     "output_type": "execute_result"
    },
    {
     "data": {
      "image/png": "[encoded data removed]",
      "text/plain": [
       "<Figure size 432x288 with 1 Axes>"
      ]
     },
     "metadata": {
      "needs_background": "light"
     },
     "output_type": "display_data"
    }
   ],
   "source": [
    "lognorms = lognorm_columns(reads_df=read_counts, columns=['pDNA', 'A375_RepA', 'A375_RepB'])\n",
    "sns.kdeplot(lognorms['pDNA'])"
   ]
  },
  {
   "cell_type": "markdown",
   "metadata": {},
   "source": [
    "## Filter pDNA"
   ]
  },
  {
   "cell_type": "code",
   "execution_count": null,
   "metadata": {},
   "outputs": [],
   "source": [
    "# export\n",
    "def filter_pdna(lognorm_df, pdna_cols, z_low=-3, z_high=None):\n",
    "    \"\"\"\n",
    "    Filter the lognorm dataframe based on the z_scored lognorms of pDNA\n",
    "    \n",
    "    lognorm_df: dataframe |\n",
    "    pdna_cols: list |\n",
    "    z_low: int or None, lower range of z-scores to filter |\n",
    "    z_high: int or None, uppper range of z-scores to filter |\n",
    "    returns: filtered dataframe\n",
    "    \"\"\"\n",
    "    filtered_lognorms = lognorm_df.copy()\n",
    "    z_scored_cols = []\n",
    "    for pdna in pdna_cols:\n",
    "        z_col = pdna + '_z'\n",
    "        filtered_lognorms[z_col] = (filtered_lognorms[pdna] - filtered_lognorms[pdna].mean())/filtered_lognorms[pdna].std()\n",
    "        z_scored_cols.append(z_col)\n",
    "    if z_low:\n",
    "        filtered_lognorms = filtered_lognorms[filtered_lognorms[z_scored_cols].min(axis = 1) > z_low] # allow for multiple pDNA columns\n",
    "    if z_high:\n",
    "        filtered_lognorms = filtered_lognorms[filtered_lognorms[z_scored_cols].max(axis = 1) < z_high]\n",
    "    filtered_lognorms = filtered_lognorms.drop(z_scored_cols, axis=1)\n",
    "    return filtered_lognorms"
   ]
  },
  {
   "cell_type": "markdown",
   "metadata": {},
   "source": [
    "Note that there's a small number of sgRNAs with low pDNA abundance. We'll fiter out any sgRNAs with lognormed pDNA less than the mean minus 3 standard deviations. "
   ]
  },
  {
   "cell_type": "code",
   "execution_count": null,
   "metadata": {},
   "outputs": [
    {
     "data": {
      "text/plain": [
       "576"
      ]
     },
     "execution_count": null,
     "metadata": {},
     "output_type": "execute_result"
    }
   ],
   "source": [
    "filtered_lognorms = filter_pdna(lognorm_df=lognorms, pdna_cols=['pDNA'])\n",
    "lognorms.shape[0] - filtered_lognorms.shape[0]"
   ]
  },
  {
   "cell_type": "code",
   "execution_count": null,
   "metadata": {},
   "outputs": [
    {
     "data": {
      "text/plain": [
       "<AxesSubplot:xlabel='pDNA', ylabel='Density'>"
      ]
     },
     "execution_count": null,
     "metadata": {},
     "output_type": "execute_result"
    },
    {
     "data": {
      "image/png": "[encoded data removed]",
      "text/plain": [
       "<Figure size 432x288 with 1 Axes>"
      ]
     },
     "metadata": {
      "needs_background": "light"
     },
     "output_type": "display_data"
    }
   ],
   "source": [
    "sns.kdeplot(filtered_lognorms['pDNA'])"
   ]
  },
  {
   "cell_type": "code",
   "execution_count": null,
   "metadata": {},
   "outputs": [],
   "source": [
    "assert ((filtered_lognorms['pDNA'] - lognorms['pDNA'].mean())/lognorms['pDNA'].std()).min() > -3"
   ]
  },
  {
   "cell_type": "markdown",
   "metadata": {},
   "source": [
    "## Calculate log-fold changes"
   ]
  },
  {
   "cell_type": "code",
   "execution_count": null,
   "metadata": {},
   "outputs": [],
   "source": [
    "# export\n",
    "def calculate_lfcs(lognorm_df, ref_col=None, target_cols=None, ref_map=None):\n",
    "    \"\"\"\n",
    "    Calculate log-fold changes between reference column and target columns\n",
    "    \n",
    "    lognorm_df: dataframe |\n",
    "    ref_col: str or None, if str then target_col must also be present |\n",
    "    target_col: list or None |\n",
    "    ref_map: dict or None, key-value pairs correspond to target-reference conditions |\n",
    "    returns: dataframe with log-fold changes\n",
    "    \"\"\"\n",
    "    lfc_df = lognorm_df.copy()\n",
    "    if (ref_col is not None) & (target_cols is not None):\n",
    "        lfc_df[target_cols] = lfc_df[target_cols].sub(lfc_df[ref_col], axis=0)\n",
    "        lfc_df = lfc_df.drop(ref_col, axis=1)\n",
    "    elif ref_map is not None:\n",
    "        for target_col, ref_col in ref_map.items():\n",
    "            # use lognorms in case columns double as target and ref\n",
    "            lfc_df[target_col] = lognorm_df[target_col] - lognorm_df[ref_col] \n",
    "        for ref_col in set(ref_map.values()):\n",
    "            if ref_col not in ref_map.keys(): # not a target condition as well\n",
    "                lfc_df = lfc_df.drop(ref_col, axis=1)\n",
    "    else:\n",
    "        raise ValueError('Either ref_col and target_cols or ref_map must be present')\n",
    "    return lfc_df"
   ]
  },
  {
   "cell_type": "markdown",
   "metadata": {},
   "source": [
    "We'll calculate log-fold changes from the pDNA reference. Since we only have one reference condition we can supply the calculate_lfcs function with the ref_col and target_cols arguments."
   ]
  },
  {
   "cell_type": "code",
   "execution_count": null,
   "metadata": {},
   "outputs": [],
   "source": [
    "lfc_df = calculate_lfcs(lognorm_df=filtered_lognorms, ref_col='pDNA', target_cols=['A375_RepA', 'A375_RepB'])"
   ]
  },
  {
   "cell_type": "markdown",
   "metadata": {},
   "source": [
    "Alternatively we can supply a ref_map, which is useful when we have more than one reference condition"
   ]
  },
  {
   "cell_type": "code",
   "execution_count": null,
   "metadata": {},
   "outputs": [],
   "source": [
    "lfc_df2 = calculate_lfcs(filtered_lognorms, ref_map = {'A375_RepA': 'pDNA', 'A375_RepB': 'pDNA'})\n",
    "assert lfc_df.equals(lfc_df2)"
   ]
  },
  {
   "cell_type": "markdown",
   "metadata": {},
   "source": [
    "We can use seaborn's [clustermap function](https://seaborn.pydata.org/generated/seaborn.clustermap.html) to plot a clustermap of replicate correlations"
   ]
  },
  {
   "cell_type": "code",
   "execution_count": null,
   "metadata": {},
   "outputs": [
    {
     "data": {
      "text/plain": [
       "<seaborn.matrix.ClusterGrid at 0x7ff3b28889d0>"
      ]
     },
     "execution_count": null,
     "metadata": {},
     "output_type": "execute_result"
    },
    {
     "data": {
      "image/png": "[encoded data removed]",
      "text/plain": [
       "<Figure size 288x288 with 4 Axes>"
      ]
     },
     "metadata": {
      "needs_background": "light"
     },
     "output_type": "display_data"
    }
   ],
   "source": [
    "import seaborn as sns\n",
    "\n",
    "sns.clustermap(lfc_df.corr(), vmin= 0, cmap= 'viridis', annot= True, figsize= (4,4))"
   ]
  },
  {
   "cell_type": "markdown",
   "metadata": {},
   "source": [
    "Since we only have two conditions it's also easy to visualize replicates as a point densityplot using [gpplot](https://github.com/gpp-rnd/gpplot)"
   ]
  },
  {
   "cell_type": "code",
   "execution_count": null,
   "metadata": {},
   "outputs": [
    {
     "data": {
      "image/png": "[encoded data removed]",
      "text/plain": [
       "<Figure size 288x288 with 1 Axes>"
      ]
     },
     "metadata": {
      "needs_background": "light"
     },
     "output_type": "display_data"
    }
   ],
   "source": [
    "import gpplot\n",
    "import matplotlib.pyplot as plt\n",
    "\n",
    "plt.subplots(figsize=(4,4))\n",
    "gpplot.point_densityplot(data=lfc_df, x='A375_RepA', y='A375_RepB')\n",
    "gpplot.add_correlation(data=lfc_df, x='A375_RepA', y='A375_RepB')\n",
    "sns.despine()"
   ]
  },
  {
   "cell_type": "markdown",
   "metadata": {},
   "source": [
    "### Avergage log-fold changes across replicates"
   ]
  },
  {
   "cell_type": "code",
   "execution_count": null,
   "metadata": {},
   "outputs": [],
   "source": [
    "#export \n",
    "from pandas.api.types import is_numeric_dtype\n",
    "\n",
    "def get_condition(condition_name, sep, condition_indices):\n",
    "    \"\"\"Split replicate name from condition name\"\"\"\n",
    "    split_condition = condition_name.split(sep)\n",
    "    relevant_condition_elements = [split_condition[i] for i in condition_indices]\n",
    "    condition = sep.join(relevant_condition_elements)\n",
    "    return condition\n",
    "\n",
    "def average_replicate_lfcs(lfcs, guide_col, condition_indices, sep='_', lfc_cols=None, \n",
    "                           condition_name='condition', lfc_name='avg_lfc'):\n",
    "    \"\"\"\n",
    "    Average log-fold changes of sgRNAs across replicates\n",
    "    \n",
    "    lfcs: dataframe |\n",
    "    guide_col: str, sgrna column name |\n",
    "    condition_indices: list of int, specifies which elements to use \n",
    "        for conditions after separating column names with sep |\n",
    "    sep: str, separator in column names |\n",
    "    lfc_cols: list or None, lfc column(s) to melt. If None use all columns that are not guide_col |\n",
    "    condition_name: str, name of condition columns |\n",
    "    lfc_name: str, name of new column with log-fold changes |\n",
    "    returns: dataframe of average lfcs\n",
    "    \"\"\"\n",
    "    if lfc_cols is None:\n",
    "        if not (lfcs.drop(guide_col,axis=1)\n",
    "                .apply(is_numeric_dtype, axis=0).all()):\n",
    "            raise ValueError('If lfc_cols are not supplied then all columns except guide_col must be numeric')\n",
    "    long_lfcs = (lfcs.melt(id_vars=guide_col, value_vars=lfc_cols, \n",
    "                           var_name=condition_name, value_name=lfc_name)\n",
    "                 .reset_index())\n",
    "    conditions = long_lfcs[condition_name].unique()\n",
    "    condition_map = {cond: get_condition(cond, sep, condition_indices) for cond in conditions}\n",
    "    long_lfcs[condition_name] = (long_lfcs[condition_name]\n",
    "                                 .replace(condition_map))\n",
    "    avg_lfcs = (long_lfcs.groupby([guide_col, condition_name])\n",
    "                .agg(avg_lfc = (lfc_name, 'mean'), \n",
    "                     n_obs = (lfc_name, 'count'))\n",
    "                .reset_index())\n",
    "    avg_lfcs = avg_lfcs.rename({'avg_lfc': lfc_name}, axis=1)\n",
    "    return avg_lfcs"
   ]
  },
  {
   "cell_type": "markdown",
   "metadata": {},
   "source": [
    "Since we see a strong correlation, we'll average the log-fold change of each sgRNA across replicates"
   ]
  },
  {
   "cell_type": "code",
   "execution_count": null,
   "metadata": {},
   "outputs": [],
   "source": [
    "avg_replicate_lfc_df = average_replicate_lfcs(lfcs=lfc_df, guide_col='sgRNA Sequence', condition_indices=[0])\n",
    "assert np.abs(avg_replicate_lfc_df.shape[0] - read_counts.shape[0]) < 1000 "
   ]
  },
  {
   "cell_type": "markdown",
   "metadata": {},
   "source": [
    "### Average log-fold changes by gene"
   ]
  },
  {
   "cell_type": "code",
   "execution_count": null,
   "metadata": {},
   "outputs": [],
   "source": [
    "# export\n",
    "def group_pseudogenes(annotations, pseudogene_size,\n",
    "                      gene_col, control_regex, seed=7):\n",
    "    \"\"\"\n",
    "    Remap annotations dataframe such that control genes are grouped into \n",
    "    pseudo-genes\n",
    "    \n",
    "    annotations: dataframe |\n",
    "    pseudogene_size: int |\n",
    "    gene_col: str |\n",
    "    control_regex: list of str, regular expressions to identify groups of \n",
    "        pseudogenes |\n",
    "    seed: int, random seed for reproducible outputs |\n",
    "    returns: dataframe of annotations with controls grouped into pseudogenes |\n",
    "    \"\"\"\n",
    "    remapped_annotations = annotations.copy()\n",
    "    genes = remapped_annotations[gene_col]\n",
    "    control_remap = {}\n",
    "    for regex in control_regex:\n",
    "        control_genes = genes[genes.str.contains(regex)].to_list()\n",
    "        np.random.seed(seed)\n",
    "        np.random.shuffle(control_genes) # shuffle mutates existing variable  \n",
    "        n_controls = len(control_genes)\n",
    "        for i in range(n_controls):\n",
    "            gene = control_genes[i]\n",
    "            # Use modulo to get the right number of groupings\n",
    "            gene_number = i % np.ceil(n_controls / pseudogene_size)\n",
    "            control_remap[gene] = regex + '_' + str(int(gene_number))\n",
    "    remapped_annotations[gene_col] = remapped_annotations[gene_col].replace(control_remap)\n",
    "    return remapped_annotations"
   ]
  },
  {
   "cell_type": "markdown",
   "metadata": {},
   "source": [
    "Before combining sgRNAs at the gene level, it's sometimes helpful to group controls into pseudo-genes so they're easier to compare with target genes"
   ]
  },
  {
   "cell_type": "code",
   "execution_count": null,
   "metadata": {},
   "outputs": [
    {
     "data": {
      "text/html": [
       "<div>\n",
       "<style scoped>\n",
       "    .dataframe tbody tr th:only-of-type {\n",
       "        vertical-align: middle;\n",
       "    }\n",
       "\n",
       "    .dataframe tbody tr th {\n",
       "        vertical-align: top;\n",
       "    }\n",
       "\n",
       "    .dataframe thead th {\n",
       "        text-align: right;\n",
       "    }\n",
       "</style>\n",
       "<table border=\"1\" class=\"dataframe\">\n",
       "  <thead>\n",
       "    <tr style=\"text-align: right;\">\n",
       "      <th></th>\n",
       "      <th>sgRNA Sequence</th>\n",
       "      <th>Annotated Gene Symbol</th>\n",
       "      <th>Annotated Gene ID</th>\n",
       "    </tr>\n",
       "  </thead>\n",
       "  <tbody>\n",
       "    <tr>\n",
       "      <th>0</th>\n",
       "      <td>AAAAAAAATCCGGACAATGG</td>\n",
       "      <td>SLC25A24</td>\n",
       "      <td>29957</td>\n",
       "    </tr>\n",
       "    <tr>\n",
       "      <th>1</th>\n",
       "      <td>AAAAAAAGGATGGTGATCAA</td>\n",
       "      <td>FASTKD3</td>\n",
       "      <td>79072</td>\n",
       "    </tr>\n",
       "    <tr>\n",
       "      <th>2</th>\n",
       "      <td>AAAAAAATGACATTACTGCA</td>\n",
       "      <td>BCAS2</td>\n",
       "      <td>10286</td>\n",
       "    </tr>\n",
       "    <tr>\n",
       "      <th>3</th>\n",
       "      <td>AAAAAAATGTCAGTCGAGTG</td>\n",
       "      <td>GPR18</td>\n",
       "      <td>2841</td>\n",
       "    </tr>\n",
       "    <tr>\n",
       "      <th>4</th>\n",
       "      <td>AAAAAACACAAGCAAGACCG</td>\n",
       "      <td>ZNF470</td>\n",
       "      <td>388566</td>\n",
       "    </tr>\n",
       "    <tr>\n",
       "      <th>...</th>\n",
       "      <td>...</td>\n",
       "      <td>...</td>\n",
       "      <td>...</td>\n",
       "    </tr>\n",
       "    <tr>\n",
       "      <th>77436</th>\n",
       "      <td>TTTGTTTGGATTGCTTCAAG</td>\n",
       "      <td>NEPRO</td>\n",
       "      <td>25871</td>\n",
       "    </tr>\n",
       "    <tr>\n",
       "      <th>77437</th>\n",
       "      <td>TTTTACCTTGTTCACATGGA</td>\n",
       "      <td>NO_CURRENT_997</td>\n",
       "      <td>NO_CURRENT_997</td>\n",
       "    </tr>\n",
       "    <tr>\n",
       "      <th>77438</th>\n",
       "      <td>TTTTGACTCTAATCACCGGT</td>\n",
       "      <td>NO_CURRENT_998</td>\n",
       "      <td>NO_CURRENT_998</td>\n",
       "    </tr>\n",
       "    <tr>\n",
       "      <th>77439</th>\n",
       "      <td>TTTTTAATACAAGGTAATCT</td>\n",
       "      <td>NO_CURRENT_999</td>\n",
       "      <td>NO_CURRENT_999</td>\n",
       "    </tr>\n",
       "    <tr>\n",
       "      <th>77440</th>\n",
       "      <td>TTTTTCTCACCCGATGAATC</td>\n",
       "      <td>NO_CURRENT_1000</td>\n",
       "      <td>NO_CURRENT_1000</td>\n",
       "    </tr>\n",
       "  </tbody>\n",
       "</table>\n",
       "<p>77441 rows × 3 columns</p>\n",
       "</div>"
      ],
      "text/plain": [
       "             sgRNA Sequence Annotated Gene Symbol Annotated Gene ID\n",
       "0      AAAAAAAATCCGGACAATGG              SLC25A24             29957\n",
       "1      AAAAAAAGGATGGTGATCAA               FASTKD3             79072\n",
       "2      AAAAAAATGACATTACTGCA                 BCAS2             10286\n",
       "3      AAAAAAATGTCAGTCGAGTG                 GPR18              2841\n",
       "4      AAAAAACACAAGCAAGACCG                ZNF470            388566\n",
       "...                     ...                   ...               ...\n",
       "77436  TTTGTTTGGATTGCTTCAAG                 NEPRO             25871\n",
       "77437  TTTTACCTTGTTCACATGGA        NO_CURRENT_997    NO_CURRENT_997\n",
       "77438  TTTTGACTCTAATCACCGGT        NO_CURRENT_998    NO_CURRENT_998\n",
       "77439  TTTTTAATACAAGGTAATCT        NO_CURRENT_999    NO_CURRENT_999\n",
       "77440  TTTTTCTCACCCGATGAATC       NO_CURRENT_1000   NO_CURRENT_1000\n",
       "\n",
       "[77441 rows x 3 columns]"
      ]
     },
     "execution_count": null,
     "metadata": {},
     "output_type": "execute_result"
    }
   ],
   "source": [
    "guide_annotations = pd.read_excel(supp_reads,\n",
    "                                  sheet_name='sgRNA annotations')\n",
    "guide_annotations"
   ]
  },
  {
   "cell_type": "code",
   "execution_count": null,
   "metadata": {},
   "outputs": [
    {
     "data": {
      "text/html": [
       "<div>\n",
       "<style scoped>\n",
       "    .dataframe tbody tr th:only-of-type {\n",
       "        vertical-align: middle;\n",
       "    }\n",
       "\n",
       "    .dataframe tbody tr th {\n",
       "        vertical-align: top;\n",
       "    }\n",
       "\n",
       "    .dataframe thead th {\n",
       "        text-align: right;\n",
       "    }\n",
       "</style>\n",
       "<table border=\"1\" class=\"dataframe\">\n",
       "  <thead>\n",
       "    <tr style=\"text-align: right;\">\n",
       "      <th></th>\n",
       "      <th>sgRNA Sequence</th>\n",
       "      <th>Annotated Gene Symbol</th>\n",
       "      <th>Annotated Gene ID</th>\n",
       "    </tr>\n",
       "  </thead>\n",
       "  <tbody>\n",
       "    <tr>\n",
       "      <th>0</th>\n",
       "      <td>AAAAAAAATCCGGACAATGG</td>\n",
       "      <td>SLC25A24</td>\n",
       "      <td>29957</td>\n",
       "    </tr>\n",
       "    <tr>\n",
       "      <th>1</th>\n",
       "      <td>AAAAAAAGGATGGTGATCAA</td>\n",
       "      <td>FASTKD3</td>\n",
       "      <td>79072</td>\n",
       "    </tr>\n",
       "    <tr>\n",
       "      <th>2</th>\n",
       "      <td>AAAAAAATGACATTACTGCA</td>\n",
       "      <td>BCAS2</td>\n",
       "      <td>10286</td>\n",
       "    </tr>\n",
       "    <tr>\n",
       "      <th>3</th>\n",
       "      <td>AAAAAAATGTCAGTCGAGTG</td>\n",
       "      <td>GPR18</td>\n",
       "      <td>2841</td>\n",
       "    </tr>\n",
       "    <tr>\n",
       "      <th>4</th>\n",
       "      <td>AAAAAACACAAGCAAGACCG</td>\n",
       "      <td>ZNF470</td>\n",
       "      <td>388566</td>\n",
       "    </tr>\n",
       "    <tr>\n",
       "      <th>...</th>\n",
       "      <td>...</td>\n",
       "      <td>...</td>\n",
       "      <td>...</td>\n",
       "    </tr>\n",
       "    <tr>\n",
       "      <th>77436</th>\n",
       "      <td>TTTGTTTGGATTGCTTCAAG</td>\n",
       "      <td>NEPRO</td>\n",
       "      <td>25871</td>\n",
       "    </tr>\n",
       "    <tr>\n",
       "      <th>77437</th>\n",
       "      <td>TTTTACCTTGTTCACATGGA</td>\n",
       "      <td>NO_CURRENT_181</td>\n",
       "      <td>NO_CURRENT_997</td>\n",
       "    </tr>\n",
       "    <tr>\n",
       "      <th>77438</th>\n",
       "      <td>TTTTGACTCTAATCACCGGT</td>\n",
       "      <td>NO_CURRENT_63</td>\n",
       "      <td>NO_CURRENT_998</td>\n",
       "    </tr>\n",
       "    <tr>\n",
       "      <th>77439</th>\n",
       "      <td>TTTTTAATACAAGGTAATCT</td>\n",
       "      <td>NO_CURRENT_154</td>\n",
       "      <td>NO_CURRENT_999</td>\n",
       "    </tr>\n",
       "    <tr>\n",
       "      <th>77440</th>\n",
       "      <td>TTTTTCTCACCCGATGAATC</td>\n",
       "      <td>NO_CURRENT_112</td>\n",
       "      <td>NO_CURRENT_1000</td>\n",
       "    </tr>\n",
       "  </tbody>\n",
       "</table>\n",
       "<p>77441 rows × 3 columns</p>\n",
       "</div>"
      ],
      "text/plain": [
       "             sgRNA Sequence Annotated Gene Symbol Annotated Gene ID\n",
       "0      AAAAAAAATCCGGACAATGG              SLC25A24             29957\n",
       "1      AAAAAAAGGATGGTGATCAA               FASTKD3             79072\n",
       "2      AAAAAAATGACATTACTGCA                 BCAS2             10286\n",
       "3      AAAAAAATGTCAGTCGAGTG                 GPR18              2841\n",
       "4      AAAAAACACAAGCAAGACCG                ZNF470            388566\n",
       "...                     ...                   ...               ...\n",
       "77436  TTTGTTTGGATTGCTTCAAG                 NEPRO             25871\n",
       "77437  TTTTACCTTGTTCACATGGA        NO_CURRENT_181    NO_CURRENT_997\n",
       "77438  TTTTGACTCTAATCACCGGT         NO_CURRENT_63    NO_CURRENT_998\n",
       "77439  TTTTTAATACAAGGTAATCT        NO_CURRENT_154    NO_CURRENT_999\n",
       "77440  TTTTTCTCACCCGATGAATC        NO_CURRENT_112   NO_CURRENT_1000\n",
       "\n",
       "[77441 rows x 3 columns]"
      ]
     },
     "execution_count": null,
     "metadata": {},
     "output_type": "execute_result"
    }
   ],
   "source": [
    "remapped_annotations = group_pseudogenes(annotations=guide_annotations, pseudogene_size=4, \n",
    "                                         gene_col='Annotated Gene Symbol', \n",
    "                                         control_regex=['NO_CURRENT'])\n",
    "control_genes = remapped_annotations.loc[remapped_annotations['Annotated Gene Symbol'].str.contains('_'), 'Annotated Gene Symbol']\n",
    "assert control_genes.value_counts().max() == 4\n",
    "assert control_genes.value_counts().min() == 4\n",
    "assert len(control_genes) == 1000\n",
    "remapped_annotations"
   ]
  },
  {
   "cell_type": "code",
   "execution_count": null,
   "metadata": {},
   "outputs": [],
   "source": [
    "# export\n",
    "from pandas.api.types import is_list_like\n",
    "\n",
    "def average_gene_lfcs(lfcs, annotations, gene_col, condition_col='condition', \n",
    "                      lfc_col='avg_lfc', merge_on=None, lfc_merge_on=None,\n",
    "                      annotation_merge_on=None, controls_to_z=None):\n",
    "    \"\"\"\n",
    "    Average log-fold changes of sgRNAs across genes\n",
    "    \n",
    "    lfcs: dataframe |\n",
    "    annotations: dataframe, mapping between sgRNAs and genes |\n",
    "    gene_col: str, column which uniquely identifies a gene |\n",
    "    condition_col: str, column which uniquely identifies experimental conditions |\n",
    "    lfc_col: str, name of value to average |\n",
    "    merge_on: str or None, name of sgRNA column to merge on. Must be present in both \n",
    "        lfc and annotation dataframes if supplied, \n",
    "        otherwise supply unique merge column to each |\n",
    "    lfc_merge_on: str or None, name of sgRNA column to merge on |\n",
    "    annotation_merge_on: str, name of sgRNA column to merge on. Present in \n",
    "        annotation dataframe if supplied |\n",
    "    controls_to_z: str or list of str or None, if supplied specifies\n",
    "        control genes for z-scoring log-fold changes\n",
    "        if string then interpreted as a regex \n",
    "        otherwise interpreted as a list of gene names found in gene_col |\n",
    "    returns: dataframe, lfcs and (optionally) z-scores averaged by gene\n",
    "    \"\"\"\n",
    "    annotated_lfcs = lfcs.merge(annotations, how='inner', on=merge_on, left_on=lfc_merge_on, right_on=annotation_merge_on)\n",
    "    gene_lfcs = (annotated_lfcs\n",
    "                 .groupby([condition_col, gene_col])\n",
    "                 .agg(avg_lfc = (lfc_col, 'mean'),\n",
    "                      n_obs = (lfc_col, 'count'))\n",
    "                 .reset_index())\n",
    "    gene_lfcs = gene_lfcs.rename({'avg_lfc': lfc_col}, axis=1)\n",
    "    if controls_to_z != None:\n",
    "        if isinstance(controls_to_z, str):\n",
    "            control_lfcs = annotated_lfcs[annotated_lfcs[gene_col].str.contains(controls_to_z)]\n",
    "        elif is_list_like(controls_to_z):\n",
    "            control_lfcs = annotated_lfcs[annotated_lfcs[gene_col].isin(controls_to_z)]\n",
    "        else:\n",
    "            raise ValueError('Must Supply a string or list-like object to controls_to_z')\n",
    "        control_stats = (control_lfcs.groupby(condition_col)\n",
    "                         .agg(ctl_mean = (lfc_col, 'mean'), \n",
    "                              ctl_sd = (lfc_col, 'std'))\n",
    "                         .reset_index())\n",
    "        gene_lfcs = (gene_lfcs.merge(control_stats, how='inner', on=condition_col))\n",
    "        gene_lfcs[lfc_col + '_z-score'] = (gene_lfcs[lfc_col] - gene_lfcs['ctl_mean'])/(gene_lfcs['ctl_sd']/np.sqrt(gene_lfcs['n_obs']))\n",
    "    return gene_lfcs"
   ]
  },
  {
   "cell_type": "markdown",
   "metadata": {},
   "source": [
    "We'll average the sgRNA log-fold changes by gene"
   ]
  },
  {
   "cell_type": "code",
   "execution_count": null,
   "metadata": {},
   "outputs": [
    {
     "data": {
      "text/html": [
       "<div>\n",
       "<style scoped>\n",
       "    .dataframe tbody tr th:only-of-type {\n",
       "        vertical-align: middle;\n",
       "    }\n",
       "\n",
       "    .dataframe tbody tr th {\n",
       "        vertical-align: top;\n",
       "    }\n",
       "\n",
       "    .dataframe thead th {\n",
       "        text-align: right;\n",
       "    }\n",
       "</style>\n",
       "<table border=\"1\" class=\"dataframe\">\n",
       "  <thead>\n",
       "    <tr style=\"text-align: right;\">\n",
       "      <th></th>\n",
       "      <th>condition</th>\n",
       "      <th>Annotated Gene Symbol</th>\n",
       "      <th>avg_lfc</th>\n",
       "      <th>n_obs</th>\n",
       "      <th>ctl_mean</th>\n",
       "      <th>ctl_sd</th>\n",
       "      <th>avg_lfc_z-score</th>\n",
       "    </tr>\n",
       "  </thead>\n",
       "  <tbody>\n",
       "    <tr>\n",
       "      <th>0</th>\n",
       "      <td>A375</td>\n",
       "      <td>A1BG</td>\n",
       "      <td>-0.084621</td>\n",
       "      <td>3</td>\n",
       "      <td>0.680505</td>\n",
       "      <td>0.277409</td>\n",
       "      <td>-4.777195</td>\n",
       "    </tr>\n",
       "    <tr>\n",
       "      <th>1</th>\n",
       "      <td>A375</td>\n",
       "      <td>A1CF</td>\n",
       "      <td>0.500314</td>\n",
       "      <td>4</td>\n",
       "      <td>0.680505</td>\n",
       "      <td>0.277409</td>\n",
       "      <td>-1.299099</td>\n",
       "    </tr>\n",
       "    <tr>\n",
       "      <th>2</th>\n",
       "      <td>A375</td>\n",
       "      <td>A2M</td>\n",
       "      <td>0.288629</td>\n",
       "      <td>4</td>\n",
       "      <td>0.680505</td>\n",
       "      <td>0.277409</td>\n",
       "      <td>-2.825256</td>\n",
       "    </tr>\n",
       "    <tr>\n",
       "      <th>3</th>\n",
       "      <td>A375</td>\n",
       "      <td>A2ML1</td>\n",
       "      <td>-0.481786</td>\n",
       "      <td>4</td>\n",
       "      <td>0.680505</td>\n",
       "      <td>0.277409</td>\n",
       "      <td>-8.379618</td>\n",
       "    </tr>\n",
       "    <tr>\n",
       "      <th>4</th>\n",
       "      <td>A375</td>\n",
       "      <td>A3GALT2</td>\n",
       "      <td>0.059362</td>\n",
       "      <td>4</td>\n",
       "      <td>0.680505</td>\n",
       "      <td>0.277409</td>\n",
       "      <td>-4.478172</td>\n",
       "    </tr>\n",
       "    <tr>\n",
       "      <th>...</th>\n",
       "      <td>...</td>\n",
       "      <td>...</td>\n",
       "      <td>...</td>\n",
       "      <td>...</td>\n",
       "      <td>...</td>\n",
       "      <td>...</td>\n",
       "      <td>...</td>\n",
       "    </tr>\n",
       "    <tr>\n",
       "      <th>19358</th>\n",
       "      <td>A375</td>\n",
       "      <td>ZYG11A</td>\n",
       "      <td>-0.280137</td>\n",
       "      <td>4</td>\n",
       "      <td>0.680505</td>\n",
       "      <td>0.277409</td>\n",
       "      <td>-6.925816</td>\n",
       "    </tr>\n",
       "    <tr>\n",
       "      <th>19359</th>\n",
       "      <td>A375</td>\n",
       "      <td>ZYG11B</td>\n",
       "      <td>0.215013</td>\n",
       "      <td>4</td>\n",
       "      <td>0.680505</td>\n",
       "      <td>0.277409</td>\n",
       "      <td>-3.355994</td>\n",
       "    </tr>\n",
       "    <tr>\n",
       "      <th>19360</th>\n",
       "      <td>A375</td>\n",
       "      <td>ZYX</td>\n",
       "      <td>-0.182864</td>\n",
       "      <td>4</td>\n",
       "      <td>0.680505</td>\n",
       "      <td>0.277409</td>\n",
       "      <td>-6.224519</td>\n",
       "    </tr>\n",
       "    <tr>\n",
       "      <th>19361</th>\n",
       "      <td>A375</td>\n",
       "      <td>ZZEF1</td>\n",
       "      <td>0.104225</td>\n",
       "      <td>4</td>\n",
       "      <td>0.680505</td>\n",
       "      <td>0.277409</td>\n",
       "      <td>-4.154730</td>\n",
       "    </tr>\n",
       "    <tr>\n",
       "      <th>19362</th>\n",
       "      <td>A375</td>\n",
       "      <td>ZZZ3</td>\n",
       "      <td>-0.743157</td>\n",
       "      <td>4</td>\n",
       "      <td>0.680505</td>\n",
       "      <td>0.277409</td>\n",
       "      <td>-10.263989</td>\n",
       "    </tr>\n",
       "  </tbody>\n",
       "</table>\n",
       "<p>19363 rows × 7 columns</p>\n",
       "</div>"
      ],
      "text/plain": [
       "      condition Annotated Gene Symbol   avg_lfc  n_obs  ctl_mean    ctl_sd  \\\n",
       "0          A375                  A1BG -0.084621      3  0.680505  0.277409   \n",
       "1          A375                  A1CF  0.500314      4  0.680505  0.277409   \n",
       "2          A375                   A2M  0.288629      4  0.680505  0.277409   \n",
       "3          A375                 A2ML1 -0.481786      4  0.680505  0.277409   \n",
       "4          A375               A3GALT2  0.059362      4  0.680505  0.277409   \n",
       "...         ...                   ...       ...    ...       ...       ...   \n",
       "19358      A375                ZYG11A -0.280137      4  0.680505  0.277409   \n",
       "19359      A375                ZYG11B  0.215013      4  0.680505  0.277409   \n",
       "19360      A375                   ZYX -0.182864      4  0.680505  0.277409   \n",
       "19361      A375                 ZZEF1  0.104225      4  0.680505  0.277409   \n",
       "19362      A375                  ZZZ3 -0.743157      4  0.680505  0.277409   \n",
       "\n",
       "       avg_lfc_z-score  \n",
       "0            -4.777195  \n",
       "1            -1.299099  \n",
       "2            -2.825256  \n",
       "3            -8.379618  \n",
       "4            -4.478172  \n",
       "...                ...  \n",
       "19358        -6.925816  \n",
       "19359        -3.355994  \n",
       "19360        -6.224519  \n",
       "19361        -4.154730  \n",
       "19362       -10.263989  \n",
       "\n",
       "[19363 rows x 7 columns]"
      ]
     },
     "execution_count": null,
     "metadata": {},
     "output_type": "execute_result"
    }
   ],
   "source": [
    "gene_lfcs = average_gene_lfcs(lfcs=avg_replicate_lfc_df, annotations=remapped_annotations, gene_col='Annotated Gene Symbol',\n",
    "                              merge_on='sgRNA Sequence', controls_to_z='NO_CURRENT')\n",
    "assert np.abs(gene_lfcs.shape[0] - 20000) < 1000\n",
    "control_z_scores = gene_lfcs.loc[gene_lfcs['Annotated Gene Symbol'].str.contains('_'), 'avg_lfc_z-score']\n",
    "assert np.abs(control_z_scores.mean()) < 0.1\n",
    "assert np.abs(control_z_scores.std() - 1) < 0.1\n",
    "gene_lfcs"
   ]
  },
  {
   "cell_type": "markdown",
   "metadata": {},
   "source": [
    "## Calculate ROC-AUC between essential and non-essential genes"
   ]
  },
  {
   "cell_type": "code",
   "execution_count": null,
   "metadata": {},
   "outputs": [],
   "source": [
    "# export\n",
    "from sklearn.metrics import roc_auc_score\n",
    "\n",
    "def get_roc_aucs(lfcs, tp_genes, fp_genes, gene_col, score_col='avg_lfc', group_col='condition'):\n",
    "    \"\"\"\n",
    "    Calculate the ROC-AUC between true positive and false positive gene sets\n",
    "    \n",
    "    lfcs: dataframe |\n",
    "    tp_genes: list-like, true positive genes |\n",
    "    fp_genes: list-like, false positive genes |\n",
    "    gene_col: str |\n",
    "    score_col: str, column to use for ranking genes from smallest to largest |\n",
    "    group_col: list, columns to use for grouping genes |\n",
    "    returns: datafrme of roc_aucs\n",
    "    \"\"\"\n",
    "    roc_df = lfcs.copy()\n",
    "    roc_df = roc_df[roc_df[gene_col].isin(tp_genes) | \n",
    "                    roc_df[gene_col].isin(fp_genes)]\n",
    "    roc_df['tp'] = roc_df[gene_col].isin(tp_genes)\n",
    "    roc_aucs = (roc_df.groupby(group_col)\n",
    "                .apply(lambda df: roc_auc_score(df['tp'], -df[score_col]))\n",
    "                .reset_index(name='ROC-AUC'))\n",
    "    return roc_aucs"
   ]
  },
  {
   "cell_type": "markdown",
   "metadata": {},
   "source": [
    "Finally, to evaluate the quality each screen, we'll calculate the ROC-AUC between [essential](https://doi.org/10.1016/j.cell.2015.11.015) and [nonessential](https://doi.org/10.15252/msb.20145216) genes for each condition"
   ]
  },
  {
   "cell_type": "code",
   "execution_count": null,
   "metadata": {},
   "outputs": [
    {
     "name": "stderr",
     "output_type": "stream",
     "text": [
      "/Users/pdeweird/.local/share/virtualenvs/poola-tuJn2lJU/lib/python3.8/site-packages/openpyxl/worksheet/_reader.py:308: UserWarning: Unknown extension is not supported and will be removed\n",
      "  warn(msg)\n"
     ]
    }
   ],
   "source": [
    "import requests\n",
    "\n",
    "noness_file = \"https://www.embopress.org/action/downloadSupplement?doi=10.15252%2Fmsb.20145216&file=msb145216-sup-0001-DatasetS1.xlsx\"\n",
    "noness_genes = (pd.read_excel(requests.get(noness_file).content, sheet_name='ReferenceSets', usecols=['Nonessential Genes (NE)'])\n",
    "                .rename({'Nonessential Genes (NE)': 'gene'}, axis=1))\n",
    "\n",
    "ess_file = 'http://tko.ccbr.utoronto.ca/Data/core-essential-genes-sym_HGNCID'\n",
    "ess_genes = pd.read_table(ess_file, names=['gene', 'gene_id'])"
   ]
  },
  {
   "cell_type": "code",
   "execution_count": null,
   "metadata": {},
   "outputs": [
    {
     "data": {
      "text/html": [
       "<div>\n",
       "<style scoped>\n",
       "    .dataframe tbody tr th:only-of-type {\n",
       "        vertical-align: middle;\n",
       "    }\n",
       "\n",
       "    .dataframe tbody tr th {\n",
       "        vertical-align: top;\n",
       "    }\n",
       "\n",
       "    .dataframe thead th {\n",
       "        text-align: right;\n",
       "    }\n",
       "</style>\n",
       "<table border=\"1\" class=\"dataframe\">\n",
       "  <thead>\n",
       "    <tr style=\"text-align: right;\">\n",
       "      <th></th>\n",
       "      <th>condition</th>\n",
       "      <th>ROC-AUC</th>\n",
       "    </tr>\n",
       "  </thead>\n",
       "  <tbody>\n",
       "    <tr>\n",
       "      <th>0</th>\n",
       "      <td>A375</td>\n",
       "      <td>0.976469</td>\n",
       "    </tr>\n",
       "  </tbody>\n",
       "</table>\n",
       "</div>"
      ],
      "text/plain": [
       "  condition   ROC-AUC\n",
       "0      A375  0.976469"
      ]
     },
     "execution_count": null,
     "metadata": {},
     "output_type": "execute_result"
    }
   ],
   "source": [
    "roc_aucs = get_roc_aucs(lfcs=gene_lfcs, tp_genes=ess_genes.gene, fp_genes=noness_genes.gene, gene_col='Annotated Gene Symbol')\n",
    "assert roc_aucs['ROC-AUC'][0] > 0.9\n",
    "roc_aucs"
   ]
  },
  {
   "cell_type": "markdown",
   "metadata": {},
   "source": [
    "We can see this visually as well that essentials deplete the most followed by nonessentials and control genes"
   ]
  },
  {
   "cell_type": "code",
   "execution_count": null,
   "metadata": {},
   "outputs": [
    {
     "data": {
      "text/plain": [
       "<matplotlib.legend.Legend at 0x7ff3b29db820>"
      ]
     },
     "execution_count": null,
     "metadata": {},
     "output_type": "execute_result"
    },
    {
     "data": {
      "image/png": "[encoded data removed]",
      "text/plain": [
       "<Figure size 288x288 with 1 Axes>"
      ]
     },
     "metadata": {
      "needs_background": "light"
     },
     "output_type": "display_data"
    }
   ],
   "source": [
    "plt.subplots(figsize=(4,4))\n",
    "sns.kdeplot(gene_lfcs.loc[gene_lfcs['Annotated Gene Symbol'].isin(ess_genes.gene), 'avg_lfc_z-score'], label='essential')\n",
    "sns.kdeplot(gene_lfcs.loc[gene_lfcs['Annotated Gene Symbol'].isin(noness_genes.gene), 'avg_lfc_z-score'], label='non-essential')\n",
    "sns.kdeplot(gene_lfcs.loc[gene_lfcs['Annotated Gene Symbol'].str.contains('_'), 'avg_lfc_z-score'], label='control')\n",
    "sns.despine()\n",
    "plt.legend()"
   ]
  }
 ],
 "metadata": {
  "kernelspec": {
   "display_name": "Python 3",
   "language": "python",
   "name": "python3"
  }
 },
 "nbformat": 4,
 "nbformat_minor": 4
}
